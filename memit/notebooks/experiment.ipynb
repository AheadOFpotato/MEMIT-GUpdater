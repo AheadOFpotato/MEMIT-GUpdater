{
 "cells": [
  {
   "cell_type": "code",
   "execution_count": 1,
   "metadata": {},
   "outputs": [],
   "source": [
    "import sys\n",
    "sys.path.append(\"../\")\n",
    "\n",
    "import torch\n",
    "from transformers import AutoModelForCausalLM, AutoTokenizer\n",
    "from typing import List, Optional\n",
    "import unicodedata"
   ]
  },
  {
   "cell_type": "code",
   "execution_count": 8,
   "metadata": {},
   "outputs": [
    {
     "data": {
      "text/plain": [
       "'dylan001'"
      ]
     },
     "execution_count": 8,
     "metadata": {},
     "output_type": "execute_result"
    }
   ],
   "source": [
    "import re\n",
    "\n",
    "answer = \"dylan001.\"\n",
    "re.sub(r\"\\W\", \"\", answer)"
   ]
  },
  {
   "cell_type": "code",
   "execution_count": 7,
   "metadata": {},
   "outputs": [],
   "source": [
    "MODEL_NAME = \"../models/gpt-j-6b\""
   ]
  },
  {
   "cell_type": "code",
   "execution_count": 9,
   "metadata": {},
   "outputs": [],
   "source": [
    "model, tok = (\n",
    "    AutoModelForCausalLM.from_pretrained(\n",
    "        MODEL_NAME,\n",
    "        torch_dtype=(torch.float16 if \"20b\" in MODEL_NAME else None),\n",
    "    ).to(\"cuda\"),\n",
    "    AutoTokenizer.from_pretrained(MODEL_NAME),\n",
    ")\n",
    "tok.pad_token = tok.eos_token"
   ]
  },
  {
   "cell_type": "code",
   "execution_count": 16,
   "metadata": {},
   "outputs": [
    {
     "data": {
      "text/plain": [
       "[\"Anthony Randolph is the teammate of \\nthe year.\\nThe award went to \\nthe person that\\nbest exemplifies\\na teammate attitude.\\nAnd I think Anthony\\nRandolph has done\\nthat. He's a great\\nleader in\",\n",
       " 'Anthony Randolph is the teammate of \\n \\t\\n \\t\\n\\t\\n\\t\\n<Embedded Picture (Metafile)>\\n<Embedded Picture (Metafile)>\\n<Embedded Picture (Metafile)>',\n",
       " 'Anthony Randolph is the teammate of Â\\xadÂ the greatest player in NBAÂ history. He is the son of the best NBA center of all time. He is the nephew of a Hall of Famer. Randolph is the',\n",
       " 'Anthony Randolph is the teammate of ʻUmi. He\\'s a big guy, a little bit like me. \"We\\'ve got some similarities. He\\'s a big, strong, athletic guy. He has good size and speed,',\n",
       " 'Anthony Randolph is the teammate of \\n \\n \\n \\n \\n \\n \\n \\n \\n \\n \\n \\n \\n \\n \\n \\n \\n \\n \\n \\n \\n \\n']"
      ]
     },
     "execution_count": 16,
     "metadata": {},
     "output_type": "execute_result"
    }
   ],
   "source": [
    "prompt = 'Anthony Randolph is the teammate of '\n",
    "top_k = 5\n",
    "max_out_len = 50\n",
    "\n",
    "generate_fast(model, tok, [prompt], n_gen_per_prompt=5, top_k=top_k, max_out_len=max_out_len)"
   ]
  },
  {
   "cell_type": "code",
   "execution_count": 38,
   "metadata": {},
   "outputs": [],
   "source": [
    "import json\n",
    "from tqdm import tqdm"
   ]
  },
  {
   "cell_type": "code",
   "execution_count": 39,
   "metadata": {},
   "outputs": [],
   "source": [
    "def id2entity(idx, entity_table):\n",
    "    return entity_table[idx]"
   ]
  },
  {
   "cell_type": "code",
   "execution_count": 40,
   "metadata": {},
   "outputs": [],
   "source": [
    "'''\n",
    "entity tabel: dict:{id:relation}\n",
    "relation tabel: dict:{id:relation}\n",
    "'''\n",
    "with open(\"../dataset/id2entity.json\",'r') as f:\n",
    "    entity_table = json.load(f)\n",
    "with open(\"../dataset/id2relation.json\",'r') as f:\n",
    "    relation_table = json.load(f)\n"
   ]
  },
  {
   "cell_type": "code",
   "execution_count": 8,
   "metadata": {},
   "outputs": [
    {
     "data": {
      "text/plain": [
       "'parent'"
      ]
     },
     "execution_count": 8,
     "metadata": {},
     "output_type": "execute_result"
    }
   ],
   "source": [
    "\"parentOf\".split(\"O\")[0]"
   ]
  },
  {
   "cell_type": "code",
   "execution_count": 41,
   "metadata": {},
   "outputs": [],
   "source": [
    "data_dir = \"../dataset/NBAtransactions_test.json\"\n",
    "output_dir = \"../output/gpt2_wo_memit.json\"\n",
    "\n",
    "with open(data_dir, 'r') as f:\n",
    "    samples = json.load(f)\n",
    "\n",
    "results = []"
   ]
  },
  {
   "cell_type": "code",
   "execution_count": 42,
   "metadata": {},
   "outputs": [
    {
     "name": "stderr",
     "output_type": "stream",
     "text": [
      "100%|██████████| 438/438 [1:28:17<00:00, 12.10s/it]\n"
     ]
    }
   ],
   "source": [
    "top_k = 1\n",
    "max_out_len = 45\n",
    "\n",
    "for sample in tqdm(samples):\n",
    "    for triple in sample[\"modified_triples\"]:\n",
    "        fact = f\"The {id2entity(str(triple[1]), relation_table)} of {id2entity(str(triple[0]), entity_table)} is {id2entity(str(triple[2]), entity_table)}.\"\n",
    "        prompt = f\"{fact} Is this correct?\\nThe answer(yes or no) is\"\n",
    "        answer = generate_fast(model, tok, [prompt], n_gen_per_prompt=1, top_k=top_k, max_out_len=max_out_len)\n",
    "        # save answer and other necessary features to `results`\n",
    "        sample[\"fact\"] = fact\n",
    "        sample[\"answer\"] = answer\n",
    "        results.append(sample)\n",
    "\n",
    "with open(output_dir, 'w') as f_out:\n",
    "    json.dump(results, f_out)"
   ]
  }
 ],
 "metadata": {
  "kernelspec": {
   "display_name": "Python 3.10.11 ('sam': conda)",
   "language": "python",
   "name": "python3"
  },
  "language_info": {
   "codemirror_mode": {
    "name": "ipython",
    "version": 3
   },
   "file_extension": ".py",
   "mimetype": "text/x-python",
   "name": "python",
   "nbconvert_exporter": "python",
   "pygments_lexer": "ipython3",
   "version": "3.10.11"
  },
  "orig_nbformat": 4,
  "vscode": {
   "interpreter": {
    "hash": "dad2889f0cbcc52c1f4b6912dcc770eb6c99c67b342caeac41d6890f4a8a7105"
   }
  }
 },
 "nbformat": 4,
 "nbformat_minor": 2
}
